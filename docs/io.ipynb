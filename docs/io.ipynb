{
 "cells": [
  {
   "cell_type": "markdown",
   "metadata": {},
   "source": [
    "## HDF5 IO"
   ]
  },
  {
   "cell_type": "markdown",
   "metadata": {},
   "source": [
    "PyHIPP provides high-level wrappers on the top of the `h5py` package.\n",
    "\n",
    "To use it, import the h5 submodule from `pyhipp.io`:"
   ]
  },
  {
   "cell_type": "code",
   "execution_count": 2,
   "metadata": {},
   "outputs": [],
   "source": [
    "from pyhipp.io import h5\n",
    "from pyhipp.stats import Rng\n",
    "import numpy as np"
   ]
  },
  {
   "cell_type": "markdown",
   "metadata": {},
   "source": [
    "Create a catalog, i.e., in the form of a arbitrarily nested dictionary:"
   ]
  },
  {
   "cell_type": "code",
   "execution_count": 10,
   "metadata": {},
   "outputs": [],
   "source": [
    "rng = Rng(seed=10086)\n",
    "l_box = 500.0\n",
    "n_subhalos = 10\n",
    "\n",
    "catalog = {\n",
    "    'header': {\n",
    "        'source': 'ELUCID simulation', 'last_update': '2024-06-06',\n",
    "    },\n",
    "    'subhalos': {\n",
    "        'id': np.arange(n_subhalos),\n",
    "        'x': rng.uniform(high=l_box, size=(n_subhalos, 3)),\n",
    "    },\n",
    "}"
   ]
  },
  {
   "cell_type": "markdown",
   "metadata": {},
   "source": [
    "Dump it to a file:\n",
    "- By default, the file flag is exclusive, i.e., it will raise an error if the file already exists.\n",
    "  The `'w'` flag can be used to truncate the file if it already exists."
   ]
  },
  {
   "cell_type": "code",
   "execution_count": 32,
   "metadata": {},
   "outputs": [],
   "source": [
    "file_name = 'catalog.hdf5'\n",
    "h5.File.dump_to(file_name, catalog, f_flag='w')"
   ]
  },
  {
   "cell_type": "markdown",
   "metadata": {},
   "source": [
    "List the contents of the file:\n",
    "- This is similar to the `h5py` CLI provided by the official HDF5 installation."
   ]
  },
  {
   "cell_type": "code",
   "execution_count": 33,
   "metadata": {},
   "outputs": [
    {
     "name": "stdout",
     "output_type": "stream",
     "text": [
      "/\n",
      "├─ header/\n",
      "   ├─ last_update(object)\n",
      "   └─ source(object)\n",
      "└─ subhalos/\n",
      "   ├─ id(int64, (10,))\n",
      "   └─ x(float64, (10, 3))\n"
     ]
    }
   ],
   "source": [
    "h5.File.ls_from(file_name)"
   ]
  },
  {
   "cell_type": "markdown",
   "metadata": {},
   "source": [
    "Open the file and modify it.\n",
    "\n",
    "- mode `'a'`: open an existing file for read/writing.\n",
    "- file.ls() or data_group.ls(): list its contents.\n",
    "- dump(): save contents as datasets, or sub data group if the value is a dict-like object.\n",
    "- attrs: the attribute manager. \n",
    "- attrs.dump(): save contents as attributes."
   ]
  },
  {
   "cell_type": "code",
   "execution_count": 34,
   "metadata": {},
   "outputs": [
    {
     "name": "stdout",
     "output_type": "stream",
     "text": [
      "--- before modifying ---\n",
      "/\n",
      "├─ header/\n",
      "   ├─ last_update(object)\n",
      "   └─ source(object)\n",
      "└─ subhalos/\n",
      "   ├─ id(int64, (10,))\n",
      "   └─ x(float64, (10, 3))\n",
      "\n",
      "--- after modifying ---\n",
      "/\n",
      "├─ header/\n",
      "   ├─ last_update(object)\n",
      "   └─ source(object)\n",
      "└─ subhalos/[n_subhalos=10]\n",
      "   ├─ id(int64, (10,))\n",
      "   ├─ mass(float64, (10,))\n",
      "   ├─ v(float64, (10, 3))\n",
      "   └─ x(float64, (10, 3))\n"
     ]
    }
   ],
   "source": [
    "with h5.File(file_name, 'a') as f:\n",
    "    subhalos = f['subhalos']\n",
    "    \n",
    "    print('--- before modifying ---')\n",
    "    f.ls()\n",
    "    \n",
    "    print('\\n--- after modifying ---')\n",
    "    subhalos.dump({\n",
    "        'v': rng.normal(scale=200, size=(n_subhalos, 3)),\n",
    "        'mass': rng.uniform(0., 100., size=n_subhalos),\n",
    "    })\n",
    "    subhalos.attrs.dump({\n",
    "        'n_subhalos': n_subhalos,\n",
    "    })\n",
    "    f.ls()"
   ]
  },
  {
   "cell_type": "markdown",
   "metadata": {},
   "source": [
    "Load back all the data from the file:"
   ]
  },
  {
   "cell_type": "code",
   "execution_count": 38,
   "metadata": {},
   "outputs": [
    {
     "data": {
      "text/plain": [
       "{ 'header': {'last_update': b'2024-06-06', 'source': b'ELUCID simulation'},\n",
       "  'subhalos': { 'id': array([0, 1, 2, 3, 4, 5, 6, 7, 8, 9]),\n",
       "                'mass': array([45.23633189, 78.24576429, 13.17180825,  6.09529128, 73.67279848,\n",
       "       23.8991323 , 32.9038259 , 89.40551753, 47.28830156, 88.55313355]),\n",
       "                'v': array([[-271.43364188,   30.66825076,   -4.72063145],\n",
       "       [  90.21116365,   -3.08840841,  217.10598144],\n",
       "       [-172.27645923,   93.1028734 ,   81.17318407],\n",
       "       [ 136.39478322,  157.84724842,   33.14150887],\n",
       "       [  17.6955707 ,   76.86272393,  171.13420932],\n",
       "       [ 209.09596349, -117.06806898,   66.55152947],\n",
       "       [-246.15164814,  210.46296219,  133.0375081 ],\n",
       "       [-157.81499475,   54.7480528 , -144.68423047],\n",
       "       [  54.9370893 ,   -1.68798678,  108.00899249],\n",
       "       [ 199.56878883,  173.29967731,   58.13932404]]),\n",
       "                'x': array([[261.24859496, 298.5067223 , 146.16116083],\n",
       "       [144.53162763, 315.18873326, 367.15953774],\n",
       "       [293.71877935,  73.13813842,  24.14471203],\n",
       "       [376.7850225 , 338.91419166, 297.37809599],\n",
       "       [401.3352333 ,  55.99929851, 408.51861218],\n",
       "       [ 39.71583672,  18.74817409, 418.51912984],\n",
       "       [365.58739017,  64.59553126,  87.43307286],\n",
       "       [308.77804769, 403.92009538, 345.97113507],\n",
       "       [189.39080029, 347.04598553, 281.95556375],\n",
       "       [157.9750106 ,  57.10295362, 413.35000259]])}}"
      ]
     },
     "execution_count": 38,
     "metadata": {},
     "output_type": "execute_result"
    }
   ],
   "source": [
    "catalog = h5.File.load_from(file_name)\n",
    "catalog"
   ]
  },
  {
   "cell_type": "markdown",
   "metadata": {},
   "source": [
    "To load a subset, pass a key:"
   ]
  },
  {
   "cell_type": "code",
   "execution_count": 39,
   "metadata": {},
   "outputs": [
    {
     "data": {
      "text/plain": [
       "{ 'id': array([0, 1, 2, 3, 4, 5, 6, 7, 8, 9]),\n",
       "  'mass': array([45.23633189, 78.24576429, 13.17180825,  6.09529128, 73.67279848,\n",
       "       23.8991323 , 32.9038259 , 89.40551753, 47.28830156, 88.55313355]),\n",
       "  'v': array([[-271.43364188,   30.66825076,   -4.72063145],\n",
       "       [  90.21116365,   -3.08840841,  217.10598144],\n",
       "       [-172.27645923,   93.1028734 ,   81.17318407],\n",
       "       [ 136.39478322,  157.84724842,   33.14150887],\n",
       "       [  17.6955707 ,   76.86272393,  171.13420932],\n",
       "       [ 209.09596349, -117.06806898,   66.55152947],\n",
       "       [-246.15164814,  210.46296219,  133.0375081 ],\n",
       "       [-157.81499475,   54.7480528 , -144.68423047],\n",
       "       [  54.9370893 ,   -1.68798678,  108.00899249],\n",
       "       [ 199.56878883,  173.29967731,   58.13932404]]),\n",
       "  'x': array([[261.24859496, 298.5067223 , 146.16116083],\n",
       "       [144.53162763, 315.18873326, 367.15953774],\n",
       "       [293.71877935,  73.13813842,  24.14471203],\n",
       "       [376.7850225 , 338.91419166, 297.37809599],\n",
       "       [401.3352333 ,  55.99929851, 408.51861218],\n",
       "       [ 39.71583672,  18.74817409, 418.51912984],\n",
       "       [365.58739017,  64.59553126,  87.43307286],\n",
       "       [308.77804769, 403.92009538, 345.97113507],\n",
       "       [189.39080029, 347.04598553, 281.95556375],\n",
       "       [157.9750106 ,  57.10295362, 413.35000259]])}"
      ]
     },
     "execution_count": 39,
     "metadata": {},
     "output_type": "execute_result"
    }
   ],
   "source": [
    "subhalos = h5.File.load_from(file_name, key='subhalos')\n",
    "subhalos"
   ]
  },
  {
   "cell_type": "markdown",
   "metadata": {},
   "source": [
    "It is also possible to load a single dataset:"
   ]
  },
  {
   "cell_type": "code",
   "execution_count": 44,
   "metadata": {},
   "outputs": [
    {
     "data": {
      "text/plain": [
       "array([[261.24859496, 298.5067223 , 146.16116083],\n",
       "       [144.53162763, 315.18873326, 367.15953774],\n",
       "       [293.71877935,  73.13813842,  24.14471203],\n",
       "       [376.7850225 , 338.91419166, 297.37809599],\n",
       "       [401.3352333 ,  55.99929851, 408.51861218],\n",
       "       [ 39.71583672,  18.74817409, 418.51912984],\n",
       "       [365.58739017,  64.59553126,  87.43307286],\n",
       "       [308.77804769, 403.92009538, 345.97113507],\n",
       "       [189.39080029, 347.04598553, 281.95556375],\n",
       "       [157.9750106 ,  57.10295362, 413.35000259]])"
      ]
     },
     "execution_count": 44,
     "metadata": {},
     "output_type": "execute_result"
    }
   ],
   "source": [
    "x = h5.File.load_from(file_name, key='subhalos/x')\n",
    "x"
   ]
  },
  {
   "cell_type": "markdown",
   "metadata": {},
   "source": [
    "To work in more detail, open the file and read its content:\n",
    "- attrs: the attribute manager. `attrs[key]` returns the value of the attribute.\n",
    "- datasets: the dataset manager. `datasets[key]` returns the value of the dataset.\n",
    "- Multiple keys can be passed at the same time. The returned value will be a tuple of the corresponding values.\n",
    "- Attribute access, such as `datasets.key` is also allowed (Thanks Zhaozhou Li for the idea)."
   ]
  },
  {
   "cell_type": "code",
   "execution_count": 53,
   "metadata": {},
   "outputs": [
    {
     "data": {
      "text/plain": [
       "(10,\n",
       " array([[261.24859496, 298.5067223 , 146.16116083],\n",
       "        [144.53162763, 315.18873326, 367.15953774],\n",
       "        [293.71877935,  73.13813842,  24.14471203],\n",
       "        [376.7850225 , 338.91419166, 297.37809599],\n",
       "        [401.3352333 ,  55.99929851, 408.51861218],\n",
       "        [ 39.71583672,  18.74817409, 418.51912984],\n",
       "        [365.58739017,  64.59553126,  87.43307286],\n",
       "        [308.77804769, 403.92009538, 345.97113507],\n",
       "        [189.39080029, 347.04598553, 281.95556375],\n",
       "        [157.9750106 ,  57.10295362, 413.35000259]]),\n",
       " array([[-271.43364188,   30.66825076,   -4.72063145],\n",
       "        [  90.21116365,   -3.08840841,  217.10598144],\n",
       "        [-172.27645923,   93.1028734 ,   81.17318407],\n",
       "        [ 136.39478322,  157.84724842,   33.14150887],\n",
       "        [  17.6955707 ,   76.86272393,  171.13420932],\n",
       "        [ 209.09596349, -117.06806898,   66.55152947],\n",
       "        [-246.15164814,  210.46296219,  133.0375081 ],\n",
       "        [-157.81499475,   54.7480528 , -144.68423047],\n",
       "        [  54.9370893 ,   -1.68798678,  108.00899249],\n",
       "        [ 199.56878883,  173.29967731,   58.13932404]]),\n",
       " array([45.23633189, 78.24576429, 13.17180825,  6.09529128, 73.67279848,\n",
       "        23.8991323 , 32.9038259 , 89.40551753, 47.28830156, 88.55313355]))"
      ]
     },
     "execution_count": 53,
     "metadata": {},
     "output_type": "execute_result"
    }
   ],
   "source": [
    "with h5.File(file_name) as f:\n",
    "    subhalos = f['subhalos']\n",
    "    n_subhalos = subhalos.attrs['n_subhalos']\n",
    "    x, v = subhalos.datasets['x', 'v']\n",
    "    mass = subhalos.datasets.mass\n",
    "n_subhalos, x, v, mass"
   ]
  },
  {
   "cell_type": "markdown",
   "metadata": {},
   "source": [
    "To load a data group as a whole, use the `load()` method:\n",
    "- Internally, `h5.File.load_from(file_name, key='header')` is implemented as following codes."
   ]
  },
  {
   "cell_type": "code",
   "execution_count": 54,
   "metadata": {},
   "outputs": [
    {
     "data": {
      "text/plain": [
       "{'last_update': b'2024-06-06', 'source': b'ELUCID simulation'}"
      ]
     },
     "execution_count": 54,
     "metadata": {},
     "output_type": "execute_result"
    }
   ],
   "source": [
    "with h5.File(file_name) as f:\n",
    "    header = f['header'].load()\n",
    "header"
   ]
  }
 ],
 "metadata": {
  "kernelspec": {
   "display_name": "Python 3",
   "language": "python",
   "name": "python3"
  },
  "language_info": {
   "codemirror_mode": {
    "name": "ipython",
    "version": 3
   },
   "file_extension": ".py",
   "mimetype": "text/x-python",
   "name": "python",
   "nbconvert_exporter": "python",
   "pygments_lexer": "ipython3",
   "version": "3.11.9"
  }
 },
 "nbformat": 4,
 "nbformat_minor": 2
}
